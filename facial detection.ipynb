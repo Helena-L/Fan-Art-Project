{
 "cells": [
  {
   "cell_type": "code",
   "execution_count": 35,
   "metadata": {
    "collapsed": false
   },
   "outputs": [],
   "source": [
    "import cv2\n",
    "import os\n",
    "import sys\n",
    "from string import Template\n",
    "from PIL import Image\n",
    "import numpy as np"
   ]
  },
  {
   "cell_type": "code",
   "execution_count": 13,
   "metadata": {
    "collapsed": false
   },
   "outputs": [
    {
     "data": {
      "text/plain": [
       "'3.1.0'"
      ]
     },
     "execution_count": 13,
     "metadata": {},
     "output_type": "execute_result"
    }
   ],
   "source": [
    "cv2.__version__"
   ]
  },
  {
   "cell_type": "code",
   "execution_count": 18,
   "metadata": {
    "collapsed": true
   },
   "outputs": [],
   "source": [
    "def get_im_list(im_dir):\n",
    "    os.chdir(im_dir)\n",
    "    imlist = []\n",
    "    allfiles=os.listdir(im_dir)\n",
    "    for filename in allfiles:\n",
    "        if filename[-4:] in [\".png\",\".PNG\"] or filename[-4:] in [\".jpg\",\".JPG\"] or filename[-5:] in [\".jpeg\",\".JPEG\"]:\n",
    "            imlist.append(filename)\n",
    "    return imlist"
   ]
  },
  {
   "cell_type": "code",
   "execution_count": 53,
   "metadata": {
    "collapsed": true
   },
   "outputs": [],
   "source": [
    "def get_facial_translations(imlist):\n",
    "    \n",
    "    face_cascade = cv2.CascadeClassifier('/Users/noon/Desktop/new media 190/Fan-Art-Project/haarcascade_frontalface_default.xml')\n",
    "\n",
    "    scale_factor = 1.2\n",
    "    min_neighbors = 3\n",
    "    min_size = (30, 30)\n",
    "    flags = cv2.CASCADE_SCALE_IMAGE\n",
    "    translations = []\n",
    "    for infname in imlist:\n",
    "        image_path = os.path.expanduser(infname)\n",
    "        image = cv2.imread(image_path)\n",
    "\n",
    "        faces = face_cascade.detectMultiScale(image, scaleFactor = scale_factor, minNeighbors = min_neighbors,\n",
    "        minSize = min_size, flags = flags)\n",
    "        print 'faces for im ', infname, ' are ', faces\n",
    "        if len(faces) == 0:\n",
    "            translations.append([0,0])\n",
    "        else:\n",
    "            face = faces[0]\n",
    "            x = face[0]\n",
    "            y = face[1]\n",
    "            w = face[2]\n",
    "            h = face[3]\n",
    "            translations.append([int(x + w/2), int(y + h/2)])\n",
    "    return translations"
   ]
  },
  {
   "cell_type": "code",
   "execution_count": 30,
   "metadata": {
    "collapsed": false,
    "scrolled": true
   },
   "outputs": [
    {
     "name": "stdout",
     "output_type": "stream",
     "text": [
      "faces for im  tumblr_nzpv2lFF3y1u4r6qwo1_1280.jpg  are  ()\n",
      "faces for im  tumblr_nzq5vxadGf1u2bhf7o1_1280.png  are  [[257 196 404 404]]\n",
      "faces for im  tumblr_nzq8k6f08t1s4uf7yo1_500.png  are  [[124 144 201 201]]\n",
      "faces for im  tumblr_nzq9o6RvO61s01qsxo1_1280.png  are  ()\n",
      "faces for im  tumblr_nzqb83khkS1qfmp5ko1_500.jpg  are  [[189  81 120 120]\n",
      " [ 69  88 295 295]]\n",
      "faces for im  tumblr_nzqfy4OALi1uqa9pho1_1280.jpg  are  [[110 172  76  76]]\n",
      "faces for im  tumblr_nzqr6xMMvK1ulk09ro1_1280.jpg  are  ()\n",
      "faces for im  tumblr_nzr4r0jvOH1tkmijro1_1280.png  are  [[367 167 189 189]]\n",
      "faces for im  tumblr_nzrbjpg8QZ1ry2v8mo1_1280.jpg  are  [[159 220 273 273]]\n",
      "faces for im  tumblr_nzrtatDAA21unurdwo1_1280.jpg  are  [[338 396  61  61]\n",
      " [184 250  72  72]\n",
      " [489  38  54  54]\n",
      " [251  49  82  82]\n",
      " [ 30  21 162 162]\n",
      " [328 436  69  69]]\n",
      "faces for im  tumblr_nzrw6wExOH1ubicsjo1_1280.jpg  are  [[274 426 116 116]]\n",
      "faces for im  tumblr_nzrwl2hb6r1rj1knno1_1280.jpg  are  [[322 202 432 432]]\n",
      "faces for im  tumblr_nzs0blryq41ulk7bxo1_400.jpg  are  [[ 87  81 138 138]]\n",
      "faces for im  tumblr_nzs4nqNyCG1td7ez0o1_1280.jpg  are  [[166 397 644 644]]\n",
      "faces for im  tumblr_nzs4wbtKNQ1r001pfo1_1280.jpg  are  [[274 424 119 119]]\n",
      "faces for im  tumblr_nzs5f0fTw11uv3dfqo1_1280.jpg  are  ()\n",
      "faces for im  tumblr_nzsj20ZIwH1r5a236o1_400.png  are  ()\n",
      "faces for im  tumblr_nzskn0rXof1uxk2c3o1_500.jpg  are  ()\n",
      "faces for im  tumblr_nztdv7uide1qd1pu0o1_1280.png  are  [[294 119 242 242]]\n",
      "faces for im  tumblr_nzu2hkPuEs1u5yvtmo1_r1_1280.png  are  ()\n",
      "faces for im  tumblr_nzufzpH80t1qz6c0so1_1280.jpg  are  [[379 505  71  71]]\n",
      "faces for im  tumblr_nzvbaezHZl1umwv4qo1_1280.jpg  are  [[318 439 541 541]]\n",
      "faces for im  tumblr_nzw0ouFTEE1tbeuo0o1_1280.jpg  are  ()\n",
      "faces for im  tumblr_nzx9mdBbYA1uci961o1_1280.png  are  ()\n",
      "faces for im  tumblr_nzzujazLYs1uzze2zo1_1280.png  are  [[204 220 388 388]\n",
      " [632 643  76  76]]\n",
      "faces for im  tumblr_nzzzv8lpu41roxg49o1_1280.png  are  [[669 320 145 145]\n",
      " [194 321 143 143]\n",
      " [395 238 159 159]]\n",
      "faces for im  tumblr_o005uf8GFY1r7rbemo1_r1_1280.png  are  [[425  78 444 444]]\n",
      "faces for im  tumblr_o01emvwUJq1uqa9pho1_1280.jpg  are  ()\n",
      "faces for im  tumblr_o01kl7Wdjf1qmkuoso1_1280.png  are  [[631 636 107 107]\n",
      " [406 234 348 348]]\n",
      "faces for im  tumblr_o01qddkQ3m1rjjf35o1_1280.jpg  are  [[ 973 1184   59   59]]\n",
      "faces for im  tumblr_o035piln4V1ut9qc9o1_1280.jpg  are  [[321 352 388 388]]\n",
      "faces for im  tumblr_o03kryUqMy1sldxhwo1_500.png  are  ()\n",
      "faces for im  tumblr_o04ng1LYRI1tzf3j7o1_1280.jpg  are  ()\n",
      "faces for im  tumblr_o06gerF5781rpwereo1_1280.jpg  are  [[228 200 345 345]]\n",
      "faces for im  tumblr_o071nrh1an1uy01mlo1_500.jpg  are  ()\n",
      "faces for im  tumblr_o086nuQ6nI1u9mnqzo1_1280.png  are  ()\n",
      "faces for im  tumblr_o08bpd3k8g1uetquco1_540.jpg  are  [[141 193 231 231]]\n",
      "faces for im  tumblr_o08sqgb4aK1s5nql9o1_500.png  are  [[165 102 164 164]]\n",
      "faces for im  tumblr_o0ciyxHNqP1spni6vo1_1280.png  are  ()\n",
      "faces for im  tumblr_o0cyr5MHaj1r04vx1o1_1280.jpg  are  ()\n",
      "faces for im  tumblr_o0l4iq67nj1sn1jsfo1_1280.jpg  are  ()\n",
      "faces for im  tumblr_o0lshto7Qq1u1ymxyo1_1280.jpg  are  ()\n",
      "final translations are  [[0, 0], [459, 398], [224, 244], [0, 0], [249, 141], [148, 210], [0, 0], [461, 261], [295, 356], [368, 426], [332, 484], [538, 418], [156, 150], [488, 719], [333, 483], [0, 0], [0, 0], [0, 0], [415, 240], [0, 0], [414, 540], [588, 709], [0, 0], [0, 0], [398, 414], [741, 392], [647, 300], [0, 0], [684, 689], [1002, 1213], [515, 546], [0, 0], [0, 0], [400, 372], [0, 0], [0, 0], [256, 308], [247, 184], [0, 0], [0, 0], [0, 0], [0, 0]]\n"
     ]
    }
   ],
   "source": [
    "# first argument is the haarcascades path\n",
    "\n",
    "face_cascade = cv2.CascadeClassifier('/Users/noon/Desktop/new media 190/Fan-Art-Project/haarcascade_frontalface_default.xml')\n",
    "\n",
    "scale_factor = 1.2\n",
    "min_neighbors = 3\n",
    "min_size = (30, 30)\n",
    "flags = cv2.CASCADE_SCALE_IMAGE\n",
    "\n",
    "imdir = '/Users/noon/desktop/new media 190/fanart/data/hermione/after'\n",
    "imlist = get_im_list(imdir)\n",
    "translations = []\n",
    "for infname in imlist:\n",
    "    image_path = os.path.expanduser(infname)\n",
    "    image = cv2.imread(image_path)\n",
    "\n",
    "    faces = face_cascade.detectMultiScale(image, scaleFactor = scale_factor, minNeighbors = min_neighbors,\n",
    "    minSize = min_size, flags = flags)\n",
    "    print 'faces for im ', infname, ' are ', faces\n",
    "    if len(faces) == 0:\n",
    "        translations.append([0,0])\n",
    "    else:\n",
    "        face = faces[0]\n",
    "        x = face[0]\n",
    "        y = face[1]\n",
    "        w = face[2]\n",
    "        h = face[3]\n",
    "        translations.append([int(x + w/2), int(y + h/2)])\n",
    "print 'final translations are ', translations"
   ]
  },
  {
   "cell_type": "code",
   "execution_count": 47,
   "metadata": {
    "collapsed": true
   },
   "outputs": [],
   "source": [
    "def get_avg_im(imlist, fname, translations):\n",
    "    #translation is list of lists [[x,y][x,y]...]\n",
    "    max_w = max(Image.open(im).size[0] for im in imlist)\n",
    "    max_h = max(Image.open(im).size[1] for im in imlist)\n",
    "    max_x = max(x[0] for x in translations)\n",
    "    max_y = max(x[1] for x in translations)\n",
    "\n",
    "    print 'max w, h: ', max_w, max_h, max_x, max_y\n",
    "    N=len(imlist)\n",
    "\n",
    "    # Create a numpy array of floats to store the average (assume RGB images)\n",
    "    arr=np.zeros((max_h+max_y,max_w+max_x,3),np.float)\n",
    "\n",
    "    # Build up average pixel intensities, casting each image as an array of floats\n",
    "    for im, xform in zip(imlist, translations):\n",
    "        print 'working on ' + im\n",
    "        old_im = Image.open(im)\n",
    "        old_size = old_im.size\n",
    "        new_size = (max_w+max_x, max_h+max_y)\n",
    "\n",
    "        new_im = Image.new(\"RGB\", new_size) \n",
    "        new_im.paste(old_im, ((new_size[0]-old_size[0])/2 + xform[0],\n",
    "                              (new_size[1]-old_size[1])/2 + xform[1]))\n",
    "        imarr=np.array(new_im,dtype=np.float)\n",
    "        arr=arr+imarr/N\n",
    "    # Round values in array and cast as 8-bit integer\n",
    "    arr=np.array(np.round(arr),dtype=np.uint8)\n",
    "\n",
    "    # Generate, save and preview final image\n",
    "    out=Image.fromarray(arr,mode=\"RGB\")\n",
    "    out.save(fname+\"-average.png\")\n",
    "    out.show()"
   ]
  },
  {
   "cell_type": "code",
   "execution_count": 48,
   "metadata": {
    "collapsed": false,
    "scrolled": true
   },
   "outputs": [
    {
     "name": "stdout",
     "output_type": "stream",
     "text": [
      "max w, h:  1280 1920 1002 1213\n",
      "working on tumblr_nzpv2lFF3y1u4r6qwo1_1280.jpg\n",
      "working on tumblr_nzq5vxadGf1u2bhf7o1_1280.png\n",
      "working on tumblr_nzq8k6f08t1s4uf7yo1_500.png\n",
      "working on tumblr_nzq9o6RvO61s01qsxo1_1280.png\n",
      "working on tumblr_nzqb83khkS1qfmp5ko1_500.jpg\n",
      "working on tumblr_nzqfy4OALi1uqa9pho1_1280.jpg\n",
      "working on tumblr_nzqr6xMMvK1ulk09ro1_1280.jpg\n",
      "working on tumblr_nzr4r0jvOH1tkmijro1_1280.png\n",
      "working on tumblr_nzrbjpg8QZ1ry2v8mo1_1280.jpg\n",
      "working on tumblr_nzrtatDAA21unurdwo1_1280.jpg\n",
      "working on tumblr_nzrw6wExOH1ubicsjo1_1280.jpg\n",
      "working on tumblr_nzrwl2hb6r1rj1knno1_1280.jpg\n",
      "working on tumblr_nzs0blryq41ulk7bxo1_400.jpg\n",
      "working on tumblr_nzs4nqNyCG1td7ez0o1_1280.jpg\n",
      "working on tumblr_nzs4wbtKNQ1r001pfo1_1280.jpg\n",
      "working on tumblr_nzs5f0fTw11uv3dfqo1_1280.jpg\n",
      "working on tumblr_nzsj20ZIwH1r5a236o1_400.png\n",
      "working on tumblr_nzskn0rXof1uxk2c3o1_500.jpg\n",
      "working on tumblr_nztdv7uide1qd1pu0o1_1280.png\n",
      "working on tumblr_nzu2hkPuEs1u5yvtmo1_r1_1280.png\n",
      "working on tumblr_nzufzpH80t1qz6c0so1_1280.jpg\n",
      "working on tumblr_nzvbaezHZl1umwv4qo1_1280.jpg\n",
      "working on tumblr_nzw0ouFTEE1tbeuo0o1_1280.jpg\n",
      "working on tumblr_nzx9mdBbYA1uci961o1_1280.png\n",
      "working on tumblr_nzzujazLYs1uzze2zo1_1280.png\n",
      "working on tumblr_nzzzv8lpu41roxg49o1_1280.png\n",
      "working on tumblr_o005uf8GFY1r7rbemo1_r1_1280.png\n",
      "working on tumblr_o01emvwUJq1uqa9pho1_1280.jpg\n",
      "working on tumblr_o01kl7Wdjf1qmkuoso1_1280.png\n",
      "working on tumblr_o01qddkQ3m1rjjf35o1_1280.jpg\n",
      "working on tumblr_o035piln4V1ut9qc9o1_1280.jpg\n",
      "working on tumblr_o03kryUqMy1sldxhwo1_500.png\n",
      "working on tumblr_o04ng1LYRI1tzf3j7o1_1280.jpg\n",
      "working on tumblr_o06gerF5781rpwereo1_1280.jpg\n",
      "working on tumblr_o071nrh1an1uy01mlo1_500.jpg\n",
      "working on tumblr_o086nuQ6nI1u9mnqzo1_1280.png\n",
      "working on tumblr_o08bpd3k8g1uetquco1_540.jpg\n",
      "working on tumblr_o08sqgb4aK1s5nql9o1_500.png\n",
      "working on tumblr_o0ciyxHNqP1spni6vo1_1280.png\n",
      "working on tumblr_o0cyr5MHaj1r04vx1o1_1280.jpg\n",
      "working on tumblr_o0l4iq67nj1sn1jsfo1_1280.jpg\n",
      "working on tumblr_o0lshto7Qq1u1ymxyo1_1280.jpg\n"
     ]
    }
   ],
   "source": [
    "get_avg_im(imlist, 'hermione', translations)"
   ]
  },
  {
   "cell_type": "code",
   "execution_count": null,
   "metadata": {
    "collapsed": false,
    "scrolled": true
   },
   "outputs": [
    {
     "name": "stdout",
     "output_type": "stream",
     "text": [
      "['clintasha', 'finn', 'hannigram', 'hermione', 'johnlock', 'korrasami', 'unused']\n",
      "faces for im  tumblr_nmmf326OZf1spz493o1_250.jpg  are  ()\n",
      "faces for im  tumblr_nmohfoyrpy1tnli5ho1_1280.jpg  are  ()\n",
      "faces for im  tumblr_nmpuov7ELE1qh1a6vo1_1280.png  are  [[389 160  86  86]]\n",
      "faces for im  tumblr_nmsqna3fyi1rrrgqdo1_r1_540.jpg  are  [[312  32  58  58]\n",
      " [149  38  58  58]]\n",
      "faces for im  tumblr_nmtsl0ST8B1qi629bo1_1280.png  are  ()\n",
      "faces for im  tumblr_nmu0b7yh2S1rewfsco1_r5_1280.png  are  ()\n",
      "faces for im  tumblr_nmuqp4VZ8o1s7vizso1_1280.jpg  are  ()\n",
      "faces for im  tumblr_nmxum51jmL1qi629bo1_500.png  are  [[275  62  81  81]]\n",
      "faces for im  tumblr_nn056xwzZ01qbzkl6o1_540.jpg  are  [[322 286 205 205]]\n",
      "faces for im  tumblr_nn1krlHuI61qi629bo1_1280.png  are  [[139 150  84  84]\n",
      " [407 163  74  74]]\n",
      "faces for im  tumblr_nn4r5tTzhB1qdu1txo1_1280.jpg  are  [[338 280  72  72]]\n",
      "faces for im  tumblr_nn4u2dt8VU1qio5dfo1_1280.jpg  are  [[827 518 226 226]\n",
      " [778 362 308 308]\n",
      " [391 274  55  55]]\n",
      "faces for im  tumblr_nn55plDRnV1qh1a6vo1_1280.png  are  ()\n",
      "faces for im  tumblr_nn5y3nC4JB1ttx0tio1_1280.jpg  are  [[  28  964  363  363]\n",
      " [ 322  633  102  102]\n",
      " [ 853 1023  141  141]]\n",
      "faces for im  tumblr_nn6ownnyfK1rwh85uo1_1280.jpg  are  ()\n",
      "faces for im  tumblr_nn6raeAS6m1ttx0tio1_1280.jpg  are  [[376 280 214 214]\n",
      " [609 822  50  50]]\n",
      "faces for im  tumblr_nn807oVADS1ttx0tio1_1280.jpg  are  [[ 84  60 216 216]\n",
      " [ 36 659 221 221]\n",
      " [ 64 395 222 222]\n",
      " [ 21 930 236 236]\n",
      " [ 19 736 257 257]\n",
      " [ 70 488 207 207]]\n",
      "faces for im  tumblr_nnaeyjTGzV1ttx0tio1_1280.jpg  are  ()\n",
      "faces for im  tumblr_nnd0yiXOmM1rb7ph3o1_1280.jpg  are  ()\n",
      "faces for im  tumblr_nndu0shPaq1qi629bo1_540.png  are  ()\n",
      "faces for im  tumblr_nndv7bk9Vf1t7r4cvo1_r1_1280.jpg  are  ()\n",
      "faces for im  tumblr_nnfdkg7G4Q1u7hu25o1_540.jpg  are  ()\n",
      "faces for im  tumblr_nnfl7bD92h1t2menzo1_1280.png  are  ()\n",
      "faces for im  tumblr_nnfrwaUUw01qgu8pno2_1280.jpg  are  [[189 190 268 268]]\n",
      "faces for im  tumblr_nnh3yveYom1tnx8c0o1_500.jpg  are  [[111  48  45  45]]\n",
      "faces for im  tumblr_nnhp4krqqY1tzcdhao1_500.jpg  are  [[149 110 115 115]]\n",
      "faces for im  tumblr_nnhue6133S1ttx0tio1_1280.jpg  are  [[ 896  224  107  107]\n",
      " [ 543  794  114  114]\n",
      " [ 365 1198   48   48]\n",
      " [ 362 1294   49   49]]\n",
      "faces for im  tumblr_nnhw5yW8Hk1ttx0tio1_1280.jpg  are  ()\n",
      "faces for im  tumblr_nniy3fcpQw1raqng9o1_500.jpg  are  ()\n",
      "faces for im  tumblr_nnjo7tgfGr1qh1a6vo1_1280.png  are  ()\n",
      "faces for im  tumblr_nnjrlds5AM1ttx0tio1_1280.jpg  are  ()\n",
      "faces for im  tumblr_nnjyjnDuqz1so951ao1_1280.png  are  ()\n",
      "faces for im  tumblr_nnlk90GACL1sbnjj5o1_1280.png  are  ()\n",
      "max w, h:  1280 1920 949 1145\n",
      "working on tumblr_nmmf326OZf1spz493o1_250.jpg\n",
      "working on tumblr_nmohfoyrpy1tnli5ho1_1280.jpg\n",
      "working on tumblr_nmpuov7ELE1qh1a6vo1_1280.png\n",
      "working on tumblr_nmsqna3fyi1rrrgqdo1_r1_540.jpg\n",
      "working on tumblr_nmtsl0ST8B1qi629bo1_1280.png\n",
      "working on tumblr_nmu0b7yh2S1rewfsco1_r5_1280.png\n",
      "working on tumblr_nmuqp4VZ8o1s7vizso1_1280.jpg\n",
      "working on tumblr_nmxum51jmL1qi629bo1_500.png\n",
      "working on tumblr_nn056xwzZ01qbzkl6o1_540.jpg\n",
      "working on tumblr_nn1krlHuI61qi629bo1_1280.png\n",
      "working on tumblr_nn4r5tTzhB1qdu1txo1_1280.jpg\n",
      "working on tumblr_nn4u2dt8VU1qio5dfo1_1280.jpg\n",
      "working on tumblr_nn55plDRnV1qh1a6vo1_1280.png\n",
      "working on tumblr_nn5y3nC4JB1ttx0tio1_1280.jpg\n",
      "working on tumblr_nn6ownnyfK1rwh85uo1_1280.jpg\n",
      "working on tumblr_nn6raeAS6m1ttx0tio1_1280.jpg\n",
      "working on tumblr_nn807oVADS1ttx0tio1_1280.jpg\n",
      "working on tumblr_nnaeyjTGzV1ttx0tio1_1280.jpg\n",
      "working on tumblr_nnd0yiXOmM1rb7ph3o1_1280.jpg\n",
      "working on tumblr_nndu0shPaq1qi629bo1_540.png\n",
      "working on tumblr_nndv7bk9Vf1t7r4cvo1_r1_1280.jpg\n",
      "working on tumblr_nnfdkg7G4Q1u7hu25o1_540.jpg\n",
      "working on tumblr_nnfl7bD92h1t2menzo1_1280.png\n",
      "working on tumblr_nnfrwaUUw01qgu8pno2_1280.jpg\n",
      "working on tumblr_nnh3yveYom1tnx8c0o1_500.jpg\n",
      "working on tumblr_nnhp4krqqY1tzcdhao1_500.jpg\n",
      "working on tumblr_nnhue6133S1ttx0tio1_1280.jpg\n",
      "working on tumblr_nnhw5yW8Hk1ttx0tio1_1280.jpg\n",
      "working on tumblr_nniy3fcpQw1raqng9o1_500.jpg\n",
      "working on tumblr_nnjo7tgfGr1qh1a6vo1_1280.png\n"
     ]
    }
   ],
   "source": [
    "d = '/Users/noon/Desktop/new media 190/fanart/data/'\n",
    "dirs = filter(lambda x: os.path.isdir(os.path.join(d, x)), os.listdir(d))\n",
    "print dirs\n",
    "for fandom in dirs:\n",
    "    if fandom == 'unused': continue\n",
    "    before = os.path.join(d, fandom) + '/before'\n",
    "    after = os.path.join(d, fandom) + '/after'\n",
    "    imlist_before = get_im_list(before)\n",
    "    xform_before = get_facial_translations(imlist_before)\n",
    "    get_avg_im(imlist_before, fandom+'-before', xform_before)\n",
    "    imlist_after = get_im_list(after)\n",
    "    xform_after = get_facial_translations(imlist_after)\n",
    "    get_avg_im(imlist_after, fandom+'-after', xform_after)"
   ]
  },
  {
   "cell_type": "code",
   "execution_count": null,
   "metadata": {
    "collapsed": true
   },
   "outputs": [],
   "source": []
  }
 ],
 "metadata": {
  "kernelspec": {
   "display_name": "Python 2",
   "language": "python",
   "name": "python2"
  },
  "language_info": {
   "codemirror_mode": {
    "name": "ipython",
    "version": 2
   },
   "file_extension": ".py",
   "mimetype": "text/x-python",
   "name": "python",
   "nbconvert_exporter": "python",
   "pygments_lexer": "ipython2",
   "version": "2.7.12"
  }
 },
 "nbformat": 4,
 "nbformat_minor": 1
}
